{
 "cells": [
  {
   "cell_type": "markdown",
   "metadata": {},
   "source": [
    "## FUNCIONES"
   ]
  },
  {
   "cell_type": "code",
   "execution_count": 4,
   "metadata": {},
   "outputs": [
    {
     "ename": "ModuleNotFoundError",
     "evalue": "No module named 'QueryReservasxHora'",
     "output_type": "error",
     "traceback": [
      "\u001b[0;31m---------------------------------------------------------------------------\u001b[0m",
      "\u001b[0;31mModuleNotFoundError\u001b[0m                       Traceback (most recent call last)",
      "Cell \u001b[0;32mIn[4], line 14\u001b[0m\n\u001b[1;32m     11\u001b[0m \u001b[38;5;28;01mfrom\u001b[39;00m \u001b[38;5;21;01mResources\u001b[39;00m\u001b[38;5;21;01m.\u001b[39;00m\u001b[38;5;21;01mQueryReservasxHora\u001b[39;00m \u001b[38;5;28;01mimport\u001b[39;00m generarQuery\n\u001b[1;32m     13\u001b[0m \u001b[38;5;66;03m# Llamar a la función para probar\u001b[39;00m\n\u001b[0;32m---> 14\u001b[0m \u001b[43mprobar_estimar_simple\u001b[49m\u001b[43m(\u001b[49m\u001b[38;5;124;43m'\u001b[39;49m\u001b[38;5;124;43m2/10/2024\u001b[39;49m\u001b[38;5;124;43m'\u001b[39;49m\u001b[43m)\u001b[49m\n",
      "File \u001b[0;32m~/Projects/Estimador Nuevo/Resources/Global.py:284\u001b[0m, in \u001b[0;36mprobar_estimar_simple\u001b[0;34m(fecha, horario_desde, horario_hasta, incremento_previo_meli, incremento_previo_meli_desde, incremento_previo_meli_hasta, incremento_posterior_general)\u001b[0m\n\u001b[1;32m    282\u001b[0m \u001b[38;5;28;01mimport\u001b[39;00m \u001b[38;5;21;01mjson\u001b[39;00m\n\u001b[1;32m    283\u001b[0m \u001b[38;5;28;01mfrom\u001b[39;00m \u001b[38;5;21;01mResources\u001b[39;00m\u001b[38;5;21;01m.\u001b[39;00m\u001b[38;5;21;01mHorariosReservas\u001b[39;00m \u001b[38;5;28;01mimport\u001b[39;00m horariosReservas\n\u001b[0;32m--> 284\u001b[0m \u001b[38;5;28;01mfrom\u001b[39;00m \u001b[38;5;21;01mQueryReservasxHora\u001b[39;00m \u001b[38;5;28;01mimport\u001b[39;00m generarQuery\n\u001b[1;32m    286\u001b[0m estimacion, dispoFinal, valoresMeli \u001b[38;5;241m=\u001b[39m estimar_simple(fecha, \n\u001b[1;32m    287\u001b[0m                                                     horario_desde,\n\u001b[1;32m    288\u001b[0m                                                     horario_hasta, \n\u001b[0;32m   (...)\u001b[0m\n\u001b[1;32m    291\u001b[0m                                                     incremento_previo_meli_hasta,\n\u001b[1;32m    292\u001b[0m                                                     incremento_posterior_general)\n\u001b[1;32m    294\u001b[0m reales \u001b[38;5;241m=\u001b[39m consultaDB(generarQuery(fecha))\n",
      "\u001b[0;31mModuleNotFoundError\u001b[0m: No module named 'QueryReservasxHora'"
     ]
    }
   ],
   "source": [
    "import sys\n",
    "import os\n",
    "\n",
    "# Agregar el directorio raíz del proyecto al path\n",
    "project_root = os.path.abspath(os.path.join(os.getcwd(), '..'))\n",
    "sys.path.append(project_root)\n",
    "\n",
    "# Importar desde Resources\n",
    "from Resources.Global import Reserva, load_credentials, consultaDB, obtener_forecast, calcular_disponibilidad, convertir_horas, estimar_simple, probar_estimar_simple, graficar_resultados\n",
    "from Resources.HorariosReservas import horariosReservas\n",
    "from Resources.QueryReservasxHora import generarQuery\n",
    "\n",
    "# Llamar a la función para probar\n",
    "probar_estimar_simple('2/10/2024')"
   ]
  },
  {
   "cell_type": "code",
   "execution_count": 6,
   "metadata": {},
   "outputs": [],
   "source": [
    "\n"
   ]
  },
  {
   "cell_type": "code",
   "execution_count": null,
   "metadata": {},
   "outputs": [],
   "source": []
  }
 ],
 "metadata": {
  "kernelspec": {
   "display_name": "entorno_estimador_nuevo",
   "language": "python",
   "name": "python3"
  },
  "language_info": {
   "codemirror_mode": {
    "name": "ipython",
    "version": 3
   },
   "file_extension": ".py",
   "mimetype": "text/x-python",
   "name": "python",
   "nbconvert_exporter": "python",
   "pygments_lexer": "ipython3",
   "version": "3.11.3"
  }
 },
 "nbformat": 4,
 "nbformat_minor": 2
}
